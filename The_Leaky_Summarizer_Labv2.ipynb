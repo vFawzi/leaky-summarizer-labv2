{
  "nbformat": 4,
  "nbformat_minor": 0,
  "metadata": {
    "colab": {
      "provenance": [],
      "authorship_tag": "ABX9TyMvKBkvF0e8/yOma91v968f",
      "include_colab_link": true
    },
    "kernelspec": {
      "name": "python3",
      "display_name": "Python 3"
    },
    "language_info": {
      "name": "python"
    }
  },
  "cells": [
    {
      "cell_type": "markdown",
      "metadata": {
        "id": "view-in-github",
        "colab_type": "text"
      },
      "source": [
        "<a href=\"https://colab.research.google.com/github/vFawzi/leaky-summarizer-labv2/blob/main/The_Leaky_Summarizer_Labv2.ipynb\" target=\"_parent\"><img src=\"https://colab.research.google.com/assets/colab-badge.svg\" alt=\"Open In Colab\"/></a>"
      ]
    },
    {
      "cell_type": "code",
      "execution_count": null,
      "metadata": {
        "id": "ugVoj5ssDSYJ"
      },
      "outputs": [],
      "source": []
    },
    {
      "cell_type": "markdown",
      "source": [
        "The Leaky Summarizer: An AI Security Investigation\n",
        "\n",
        "Welcome, Security Investigator!\n",
        "\n",
        "Your mission is to assess a new AI agent developed by our engineering team. The \"Leaky Summarizer\" agent is a conversational chatbot designed to read corporate documents from Cloud Storage and provide summaries.\n",
        "\n",
        "Your task is to ensure this new chatbot is secure before it goes into production. You will interact with it, try to find hidden vulnerabilities, and then implement Google Cloud's advanced security controls to fix them.\n",
        "\n",
        "Lab Objectives\n",
        "\n",
        "✅ Interact with a deployed, conversational AI chatbot built with the Agent Development Kit (ADK).\n",
        "\n",
        "✅ Discover how a sophisticated \"Indirect Prompt Injection\" attack can trick an agent into leaking secret data.\n",
        "\n",
        "✅ Identify the root-cause infrastructure misconfiguration that enables the attack.\n",
        "\n",
        "✅ Implement two distinct layers of security controls:\n",
        "\n",
        "Network Egress Controls to lock down the agent's network access.\n",
        "\n",
        "Vertex AI Model Armor to protect the AI's \"brain\" from malicious prompts.\n",
        "\n",
        "✅ Verify that the threat has been successfully mitigated.\n",
        "\n",
        "Your Environment\n",
        "\n",
        "Your lab environment, including the deployed agent, has been pre-provisioned by your trainer. You will be given two key pieces of information to start:\n",
        "\n",
        "Your unique GCP_PROJECT_ID.\n",
        "\n",
        "The AGENT_URL for the live AI agent you will be investigating.\n",
        "\n",
        "Let's begin the investigation."
      ],
      "metadata": {
        "id": "NH25gkUmDW3z"
      }
    },
    {
      "cell_type": "code",
      "source": [
        "# ===============================================================\n",
        "# TODO: PASTE THE VALUES PROVIDED BY YOUR TRAINER BELOW\n",
        "# ===============================================================\n",
        "\n",
        "GCP_PROJECT_ID = 'genai-security-01'\n",
        "AGENT_URL = 'https://your-agent-url-here.a.run.app'\n",
        "\n",
        "# ===============================================================\n",
        "#               (No need to change anything below)\n",
        "# ===============================================================\n",
        "import os\n",
        "import requests\n",
        "import json\n",
        "\n",
        "class AgentChat:\n",
        "    \"\"\"A helper class to make interacting with the chatbot easier.\"\"\"\n",
        "    def __init__(self, agent_url):\n",
        "        if 'your-agent-url-here' in agent_url:\n",
        "            raise ValueError(\"❌ ERROR: Please replace 'your-agent-url-here' with the Agent URL provided by your trainer.\")\n",
        "        self.agent_url = agent_url\n",
        "        self.session_id = None\n",
        "        print(f\"✅ Chatbot client initialized. Ready to chat with the agent at: {self.agent_url}\")\n",
        "\n",
        "    def chat(self, prompt_text):\n",
        "        print(f\"\\n> YOU: {prompt_text}\")\n",
        "        payload = {\"prompt\": prompt_text}\n",
        "        if self.session_id:\n",
        "            payload[\"session\"] = self.session_id\n",
        "\n",
        "        try:\n",
        "            response = requests.post(self.agent_url, json=payload)\n",
        "            response.raise_for_status()\n",
        "            data = response.json()\n",
        "            self.session_id = data.get(\"session\")\n",
        "            print(\"< AGENT:\")\n",
        "            print(json.dumps(data, indent=2))\n",
        "            return data\n",
        "        except requests.exceptions.RequestException as e:\n",
        "            print(f\"❌ An error occurred while communicating with the agent: {e}\")\n",
        "            return None\n",
        "\n",
        "# --- Verification ---\n",
        "if 'your-gcp-project-id-here' in GCP_PROJECT_ID:\n",
        "    print(\"❌ ERROR: Please replace 'your-gcp-project-id-here' with the Project ID provided by your trainer.\")\n",
        "else:\n",
        "    os.environ['GCP_PROJECT_ID'] = GCP_PROJECT_ID\n",
        "    chatbot = AgentChat(AGENT_URL)\n"
      ],
      "metadata": {
        "id": "JEdipzPSDbON"
      },
      "execution_count": null,
      "outputs": []
    }
  ]
}