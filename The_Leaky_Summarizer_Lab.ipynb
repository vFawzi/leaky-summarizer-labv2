{
  "nbformat": 4,
  "nbformat_minor": 0,
  "metadata": {
    "colab": {
      "provenance": [],
      "authorship_tag": "ABX9TyNLSTu5bIvnC7rh6bgi9lEl",
      "include_colab_link": true
    },
    "kernelspec": {
      "name": "python3",
      "display_name": "Python 3"
    },
    "language_info": {
      "name": "python"
    }
  },
  "cells": [
    {
      "cell_type": "markdown",
      "metadata": {
        "id": "view-in-github",
        "colab_type": "text"
      },
      "source": [
        "<a href=\"https://colab.research.google.com/github/vFawzi/leaky-summarizer-labv2/blob/main/The_Leaky_Summarizer_Lab.ipynb\" target=\"_parent\"><img src=\"https://colab.research.google.com/assets/colab-badge.svg\" alt=\"Open In Colab\"/></a>"
      ]
    },
    {
      "cell_type": "markdown",
      "source": [],
      "metadata": {
        "id": "5-UhOrDQtSDQ"
      }
    },
    {
      "cell_type": "markdown",
      "source": [
        "The Leaky Summarizer: An AI Security Investigation\n",
        "\n",
        "Welcome, Security Investigator!\n",
        "\n",
        "Your mission is to assess a new AI agent developed by our engineering team.\n",
        "\n",
        "The \"Leaky Summarizer\" agent is designed to read corporate documents from Cloud Storage and provide summaries.\n",
        "\n",
        "Your task is to ensure it is secure before it goes into production by finding and fixing any hidden vulnerabilities.\n",
        "\n",
        "Lab Objectives\n",
        "\n",
        "✅ Interact with a deployed AI agent on Google Cloud.\n",
        "\n",
        "✅ Discover a sophisticated \"Indirect Prompt Injection\" vulnerability.\n",
        "\n",
        "✅ Identify the root cause infrastructure misconfiguration.\n",
        "\n",
        "✅ Implement two distinct layers of security controls: Network Egress Controls and Vertex AI Model Armor.\n",
        "\n",
        "✅ Verify that the threat has been successfully mitigated.\n",
        "\n",
        "Your Environment\n",
        "Your lab environment has been pre-provisioned by your trainer. You will be given two key pieces of information to start:\n",
        "\n",
        "Your unique GCP_PROJECT_ID.\n",
        "\n",
        "The AGENT_URL for the AI agent you will be investigating.\n",
        "\n",
        "Let's begin the investigation.\n"
      ],
      "metadata": {
        "id": "1qq-w6HmtS6c"
      }
    },
    {
      "cell_type": "code",
      "source": [
        "# --- Configuration ---\n",
        "# PASTE THE VALUES PROVIDED BY YOUR TRAINER BELOW\n",
        "\n",
        "GCP_PROJECT_ID = 'genai-security-01'\n",
        "AGENT_URL = 'https://leaky-summarizer-om2zzmt3pa-uc.a.run.app'\n",
        "\n",
        "# ===============================================================\n",
        "#               (No need to change anything below)\n",
        "# ===============================================================\n",
        "import os\n",
        "import requests\n",
        "import json\n",
        "\n",
        "class AgentChat:\n",
        "    \"\"\"A helper class to make interacting with the chatbot easier.\"\"\"\n",
        "    def __init__(self, agent_url):\n",
        "        if 'your-agent-url-here' in agent_url:\n",
        "            raise ValueError(\"❌ ERROR: Please replace 'your-agent-url-here' with the Agent URL provided by your trainer.\")\n",
        "        self.agent_url = agent_url\n",
        "        self.session_id = None\n",
        "        print(f\"✅ Chatbot client initialized. Ready to chat with the agent at: {self.agent_url}\")\n",
        "\n",
        "    def chat(self, prompt_text):\n",
        "        print(f\"\\n> YOU: {prompt_text}\")\n",
        "        payload = {\"prompt\": prompt_text}\n",
        "        if self.session_id:\n",
        "            payload[\"session\"] = self.session_id\n",
        "\n",
        "        try:\n",
        "            response = requests.post(self.agent_url, json=payload)\n",
        "            response.raise_for_status()\n",
        "            data = response.json()\n",
        "            self.session_id = data.get(\"session\")\n",
        "            print(\"< AGENT:\")\n",
        "            print(json.dumps(data, indent=2))\n",
        "            return data\n",
        "        except requests.exceptions.RequestException as e:\n",
        "            print(f\"❌ An error occurred while communicating with the agent: {e}\")\n",
        "            return None\n",
        "\n",
        "# --- Verification ---\n",
        "if 'your-gcp-project-id-here' in GCP_PROJECT_ID:\n",
        "    print(\"❌ ERROR: Please replace 'your-gcp-project-id-here' with the Project ID provided by your trainer.\")\n",
        "else:\n",
        "    os.environ['GCP_PROJECT_ID'] = GCP_PROJECT_ID\n",
        "    chatbot = AgentChat(AGENT_URL)"
      ],
      "metadata": {
        "colab": {
          "base_uri": "https://localhost:8080/"
        },
        "id": "Z3cVGP_mtana",
        "outputId": "e1523c94-1114-4395-c585-fe93a3f26699",
        "collapsed": true
      },
      "execution_count": 6,
      "outputs": [
        {
          "output_type": "stream",
          "name": "stdout",
          "text": [
            "✅ Chatbot client initialized. Ready to chat with the agent at: https://leaky-summarizer-om2zzmt3pa-uc.a.run.app\n"
          ]
        }
      ]
    }
  ]
}