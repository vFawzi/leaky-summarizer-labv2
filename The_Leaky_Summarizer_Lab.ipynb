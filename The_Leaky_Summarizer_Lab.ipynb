{
  "nbformat": 4,
  "nbformat_minor": 0,
  "metadata": {
    "colab": {
      "provenance": [],
      "authorship_tag": "ABX9TyPoBcT0vq1VMTulhBTc9s/c",
      "include_colab_link": true
    },
    "kernelspec": {
      "name": "python3",
      "display_name": "Python 3"
    },
    "language_info": {
      "name": "python"
    }
  },
  "cells": [
    {
      "cell_type": "markdown",
      "metadata": {
        "id": "view-in-github",
        "colab_type": "text"
      },
      "source": [
        "<a href=\"https://colab.research.google.com/github/vFawzi/leaky-summarizer-lab/blob/main/The_Leaky_Summarizer_Lab.ipynb\" target=\"_parent\"><img src=\"https://colab.research.google.com/assets/colab-badge.svg\" alt=\"Open In Colab\"/></a>"
      ]
    },
    {
      "cell_type": "markdown",
      "source": [],
      "metadata": {
        "id": "5-UhOrDQtSDQ"
      }
    },
    {
      "cell_type": "markdown",
      "source": [
        "The Leaky Summarizer: An AI Security Investigation\n",
        "\n",
        "Welcome, Security Investigator!\n",
        "\n",
        "Your mission is to assess a new AI agent developed by our engineering team.\n",
        "\n",
        "The \"Leaky Summarizer\" agent is designed to read corporate documents from Cloud Storage and provide summaries.\n",
        "\n",
        "Your task is to ensure it is secure before it goes into production by finding and fixing any hidden vulnerabilities.\n",
        "\n",
        "Lab Objectives\n",
        "\n",
        "✅ Interact with a deployed AI agent on Google Cloud.\n",
        "\n",
        "✅ Discover a sophisticated \"Indirect Prompt Injection\" vulnerability.\n",
        "\n",
        "✅ Identify the root cause infrastructure misconfiguration.\n",
        "\n",
        "✅ Implement two distinct layers of security controls: Network Egress Controls and Vertex AI Model Armor.\n",
        "\n",
        "✅ Verify that the threat has been successfully mitigated.\n",
        "\n",
        "Your Environment\n",
        "Your lab environment has been pre-provisioned by your trainer. You will be given two key pieces of information to start:\n",
        "\n",
        "Your unique GCP_PROJECT_ID.\n",
        "\n",
        "The AGENT_URL for the AI agent you will be investigating.\n",
        "\n",
        "Let's begin the investigation.\n"
      ],
      "metadata": {
        "id": "1qq-w6HmtS6c"
      }
    },
    {
      "cell_type": "code",
      "source": [
        "# --- Configuration ---\n",
        "# PASTE THE VALUES PROVIDED BY YOUR TRAINER BELOW\n",
        "\n",
        "GCP_PROJECT_ID = 'genai-security-01'\n",
        "AGENT_URL = 'https://your-agent-url-here.a.run.app'\n",
        "\n",
        "# --- Verification ---\n",
        "# (No need to change anything below this line)\n",
        "import os\n",
        "import requests\n",
        "import json\n",
        "\n",
        "if 'your-gcp-project-id-here' in GCP_PROJECT_ID:\n",
        "    print(\"❌ ERROR: Please replace 'your-gcp-project-id-here' with the Project ID provided by your trainer.\")\n",
        "elif 'your-agent-url-here' in AGENT_URL:\n",
        "    print(\"❌ ERROR: Please replace 'your-agent-url-here' with the Agent URL provided by your trainer.\")\n",
        "else:\n",
        "    os.environ['GCP_PROJECT_ID'] = GCP_PROJECT_ID\n",
        "    os.environ['AGENT_URL'] = AGENT_URL\n",
        "    print(f\"✅ Setup complete! Using Project ID: {GCP_PROJECT_ID}\")\n",
        "\n"
      ],
      "metadata": {
        "colab": {
          "base_uri": "https://localhost:8080/"
        },
        "id": "Z3cVGP_mtana",
        "outputId": "f5a05545-5b63-4127-cfe8-e8217795953f"
      },
      "execution_count": 1,
      "outputs": [
        {
          "output_type": "stream",
          "name": "stdout",
          "text": [
            "❌ ERROR: Please replace 'your-agent-url-here' with the Agent URL provided by your trainer.\n"
          ]
        }
      ]
    }
  ]
}